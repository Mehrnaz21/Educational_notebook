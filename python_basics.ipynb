{
 "cells": [
  {
   "cell_type": "markdown",
   "metadata": {},
   "source": [
    "# Introduction\n"
   ]
  },
  {
   "cell_type": "markdown",
   "metadata": {},
   "source": []
  },
  {
   "cell_type": "code",
   "execution_count": 7,
   "metadata": {},
   "outputs": [
    {
     "name": "stdout",
     "output_type": "stream",
     "text": [
      "Python isawesome\n",
      "Python is awesome\n",
      "Python is fantastic\n",
      "Python is awesome\n",
      "Python is fantastic\n"
     ]
    }
   ],
   "source": [
    "#Global variable:\n",
    "x = \"awesome\"\n",
    "def myfun():\n",
    "    print(\"Python is\" + x)\n",
    "    print(\"Python is \" + x)\n",
    "myfun()\n",
    "\n",
    "#Global and local variable:\n",
    "x = \"awesome\"\n",
    "def myfun():\n",
    "    x = \"fantastic\"\n",
    "    print(\"Python is \" + x)\n",
    "myfun()\n",
    "print(\"Python is \" + x)\n",
    "\n",
    "#create a global variable inside a function:\n",
    "def myfunc():\n",
    "    global x\n",
    "    x = \"fantastic\"\n",
    "myfunc()\n",
    "print(\"Python is \" + x)"
   ]
  },
  {
   "cell_type": "code",
   "execution_count": 10,
   "metadata": {},
   "outputs": [
    {
     "name": "stdout",
     "output_type": "stream",
     "text": [
      "True\n",
      "Yes, 'free' is present.\n"
     ]
    }
   ],
   "source": [
    "#check string:\n",
    "txt = \"The best things in life are free!\"\n",
    "print(\"free\" in txt)\n",
    "if \"free\" in txt:\n",
    "    print(\"Yes, 'free' is present.\")\n",
    "#not in"
   ]
  },
  {
   "cell_type": "code",
   "execution_count": null,
   "metadata": {},
   "outputs": [
    {
     "name": "stdout",
     "output_type": "stream",
     "text": [
      "naz, Hoom\n",
      "Mehrnaz, Hoo\n",
      "naz, Hooman!\n",
      "oman\n"
     ]
    }
   ],
   "source": [
    "#Slicing Strings:\n",
    "x = \"Mehrnaz, Hooman!\"\n",
    "print(x[4:13])\n",
    "print(x[:12])\n",
    "print(x[4:])\n",
    "print(x[-5:-1])"
   ]
  },
  {
   "cell_type": "code",
   "execution_count": null,
   "metadata": {},
   "outputs": [
    {
     "name": "stdout",
     "output_type": "stream",
     "text": [
      "MEHRNAZ, HOOMAN\n",
      "mehrnaz, hooman\n",
      "Mehrnaz, Hoomnaz\n",
      " Mehrnaz, Hooman \n",
      "Mehrnaz, Hooman\n"
     ]
    }
   ],
   "source": [
    "#Modify Strings:\n",
    "x = \"Mehrnaz, Hooman\"\n",
    "print(x.upper())\n",
    "print(x.lower())\n",
    "print(x.replace(\"an\", \"naz\"))\n",
    "# the strip() method removes any whitespace from the beginning or the end\n",
    "a = \" Mehrnaz, Hooman \"\n",
    "print(a)\n",
    "print(a.strip())"
   ]
  },
  {
   "cell_type": "code",
   "execution_count": null,
   "metadata": {},
   "outputs": [
    {
     "name": "stdout",
     "output_type": "stream",
     "text": [
      "My name is Mehrnaz, I am 34\n"
     ]
    }
   ],
   "source": [
    "#String Format\n",
    "#we cannot combine strings and numbers like this:\n",
    "#age = 34\n",
    "#txt = \"My name is Mehrnaz, I am\" + age\n",
    "#print(txt)\n",
    "#we use f-strings:\n",
    "age = 34\n",
    "txt = f\"My name is Mehrnaz, I am {age}\"\n",
    "print(txt)"
   ]
  },
  {
   "cell_type": "code",
   "execution_count": 40,
   "metadata": {},
   "outputs": [
    {
     "name": "stdout",
     "output_type": "stream",
     "text": [
      "True\n",
      "False\n",
      "False\n",
      "True\n",
      "True\n",
      "True\n",
      "True\n",
      "False\n",
      "False\n"
     ]
    }
   ],
   "source": [
    "#Boolean\n",
    "print(21>14)\n",
    "print(21==14)\n",
    "print(21<14)\n",
    "#Any string is True, except empty strings.\n",
    "#Any number is True, except 0.\n",
    "#Any list, tuple, set, and dictionary are True, except empty ones.\n",
    "print(bool(\"Mehrnaz\"))\n",
    "print(bool(21))\n",
    "print(bool([\"m\", \"h\"]))\n",
    "print(bool([False]))\n",
    "print(bool(None))\n",
    "print(bool([]))"
   ]
  },
  {
   "cell_type": "code",
   "execution_count": null,
   "metadata": {},
   "outputs": [
    {
     "name": "stdout",
     "output_type": "stream",
     "text": [
      "['abd', 34, True, 40, 'male']\n",
      "34\n",
      "[34, True]\n",
      "YES\n",
      "['Mehrnaz', 14, 'Hooman']\n",
      "['abc', 'Mehrnaz', 'M']\n",
      "['abc', 14, 'Hooman', 'Mehrnaz', 'M']\n",
      "['abc', 14, 'Hooman']\n",
      "['a', 'b', 'c', 'd']\n",
      "['abc', 'Hooman', 'M']\n",
      "[14, 'Hooman', 'M']\n"
     ]
    }
   ],
   "source": [
    "#List []\n",
    "#List items are ordered, changeable, and allow duplicate values.\n",
    "#a list can contain different data types:\n",
    "list1 = [\"abd\", 34, True, 40, \"male\"]\n",
    "print(list1)\n",
    "print(list1[1])\n",
    "print(list1[1:3])\n",
    "#\n",
    "\n",
    "list2 = [\"Mehrnaz\", 21, \"H\"]\n",
    "if \"H\" in list2:\n",
    "    print(\"YES\")\n",
    "\n",
    "#change item value:\n",
    "a = [\"abc\", 14, \"Hooman\"]\n",
    "a[0] = \"Mehrnaz\"\n",
    "print(a)\n",
    "\n",
    "a = [\"abc\", 14, \"Hooman\", \"M\"]\n",
    "a[1:3] = [\"Mehrnaz\"]\n",
    "print(a)\n",
    "\n",
    "a = [\"abc\", 14, \"Hooman\", \"M\"]\n",
    "a.insert(3, \"Mehrnaz\")\n",
    "print(a)\n",
    "\n",
    "a = [\"abc\", 14, \"Hooman\", \"M\"]\n",
    "a.remove(\"M\")\n",
    "print(a)\n",
    "\n",
    "#Extend List:\n",
    "a =[\"a\", \"b\"]\n",
    "b =[\"c\", \"d\"]\n",
    "a.extend(b)\n",
    "print(a)\n",
    "\n",
    "#del and pop() remove specified index:\n",
    "a = [\"abc\", 14, \"Hooman\", \"M\"]\n",
    "a.pop(1)\n",
    "print(a)\n",
    "\n",
    "a = [\"abc\", 14, \"Hooman\", \"M\"]\n",
    "del a[0]\n",
    "print(a)\n",
    "\n"
   ]
  },
  {
   "cell_type": "code",
   "execution_count": null,
   "metadata": {},
   "outputs": [
    {
     "name": "stdout",
     "output_type": "stream",
     "text": [
      "red\n",
      "blue\n",
      "green\n",
      "M\n",
      "14\n",
      "21\n",
      "M\n",
      "14\n",
      "21\n"
     ]
    }
   ],
   "source": [
    "#List\n",
    "#Loop through a List:\n",
    "list = [\"red\", \"blue\", \"green\"]\n",
    "for x in list:\n",
    "    print(x)\n",
    "\n",
    "a = [\"M\", 14, 21]\n",
    "for x in range(len(a)):\n",
    "    print(a[x])\n",
    "\n",
    "#Using a While Loop:\n",
    "list = [\"M\", 14, 21]\n",
    "x = 0\n",
    "while x < len(list):\n",
    "    print(list[x])\n",
    "    x = x + 1"
   ]
  },
  {
   "cell_type": "code",
   "execution_count": null,
   "metadata": {},
   "outputs": [
    {
     "name": "stdout",
     "output_type": "stream",
     "text": [
      "['apple']\n",
      "['apple', 'banana']\n",
      "['apple', 'banana', 'mango']\n",
      "['apple', 'banana', 'mango']\n",
      "['banana', 'cherry', 'kiwi', 'mango']\n",
      "['apple', 'banana', 'cherry', 'orange']\n",
      "['apple', 'banana', 'cherry', 'o', 'r', 'a', 'n', 'g', 'e']\n",
      "['apple', 'banana', 'cherry', 'orange']\n",
      "['apple', 'banana', 'cherry', 'o', 'r', 'a', 'n', 'g', 'e']\n"
     ]
    }
   ],
   "source": [
    "#List\n",
    "#list comprehension:\n",
    "fruits = [\"apple\", \"banana\", \"cherry\", \"kiwi\", \"mango\"]\n",
    "newlist = []\n",
    "for x in fruits:\n",
    "    if \"a\" in x:\n",
    "        newlist.append(x)\n",
    "        print(newlist)   \n",
    "\n",
    "fruits = [\"apple\", \"banana\", \"cherry\", \"kiwi\", \"mango\"]\n",
    "newlist = [x for x in fruits if \"a\" in x]\n",
    "print(newlist)\n",
    "\n",
    "fruits = [\"apple\", \"banana\", \"cherry\", \"kiwi\", \"mango\"]\n",
    "newlist = [x for x in fruits if x != \"apple\"]\n",
    "print(newlist)\n",
    "\n",
    "fruits = [\"apple\", \"banana\", \"cherry\"]\n",
    "fruits.append(\"orange\")\n",
    "print(fruits)\n",
    "\n",
    "fruits = [\"apple\", \"banana\", \"cherry\"]\n",
    "fruits.extend(\"orange\")\n",
    "print(fruits)      \n",
    "\n",
    "\n",
    "fruits = [\"apple\", \"banana\", \"cherry\"]\n",
    "x = [\"orange\"]\n",
    "fruits.extend(x)\n",
    "print(fruits)        \n",
    "\n",
    "\n",
    "fruits = [\"apple\", \"banana\", \"cherry\"]\n",
    "x = (\"orange\")\n",
    "fruits.extend(x)\n",
    "print(fruits)\n"
   ]
  },
  {
   "cell_type": "code",
   "execution_count": 175,
   "metadata": {},
   "outputs": [
    {
     "name": "stdout",
     "output_type": "stream",
     "text": [
      "['apple', 'banana', 'mango']\n"
     ]
    }
   ],
   "source": [
    "\"\"\"Week 1\"fruits = [\"apple\", \"banana\", \"cherry\", \"kiwi\", \"mango\"]\n",
    "newlist = []\n",
    "for x in fruits:\n",
    "    if \"a\" in x:\n",
    "        newlist.append(x)\n",
    "        print(newlist)\"\n",
    "        \"\"\"\n",
    "fruits = [\"apple\", \"banana\", \"cherry\", \"kiwi\", \"mango\"]\n",
    "newlist = []\n",
    "for x in fruits:\n",
    "    if \"a\" in x:\n",
    "        newlist.append(x)\n",
    "print(newlist)"
   ]
  },
  {
   "cell_type": "code",
   "execution_count": 34,
   "metadata": {},
   "outputs": [
    {
     "name": "stdout",
     "output_type": "stream",
     "text": [
      "[0, 1, 2, 3, 4, 5, 6, 7, 8, 9, 10, 11, 12, 13]\n",
      "[0, 1, 2, 3, 4, 5, 6, 7, 8, 9]\n"
     ]
    }
   ],
   "source": [
    "a = [x for x in range(14)]\n",
    "print(a)\n",
    "\n",
    "a = [x for x in range(14) if x < 10]\n",
    "print(a)"
   ]
  },
  {
   "cell_type": "code",
   "execution_count": 2,
   "metadata": {},
   "outputs": [
    {
     "name": "stdout",
     "output_type": "stream",
     "text": [
      "['banana', 'kiwi', 'mango', 'orange']\n",
      "[0, 7, 14, 21, 100]\n",
      "['orange', 'mango', 'kiwi', 'banana']\n",
      "[100, 21, 14, 7, 0]\n",
      "['banana', 'kiwi', 'mango', 'orange']\n"
     ]
    }
   ],
   "source": [
    "#List\n",
    "#sort the list alphabetically:\n",
    "fruit_list = [\"orange\", \"mango\", \"kiwi\", \"banana\"]\n",
    "fruit_list.sort()\n",
    "print(fruit_list)\n",
    "\n",
    "num_list = [100, 14, 21, 7, 0]\n",
    "num_list.sort()\n",
    "print(num_list)\n",
    "\n",
    "#to sort descending:\n",
    "fruit_ist = [\"orange\", \"mango\", \"kiwi\", \"banana\"]\n",
    "fruit_ist.sort(reverse = True)\n",
    "print(fruit_ist)\n",
    "\n",
    "num_list = [100, 14, 21, 7, 0]\n",
    "num_list.sort(reverse = True)\n",
    "print(num_list)\n",
    "\n",
    "fruit_list = [\"orange\", \"mango\", \"kiwi\", \"banana\"]\n",
    "fruit_list.reverse()\n",
    "print(fruit_list)"
   ]
  },
  {
   "cell_type": "code",
   "execution_count": null,
   "metadata": {},
   "outputs": [
    {
     "name": "stdout",
     "output_type": "stream",
     "text": [
      "[1, 2, 3, 'a']\n",
      "[1, 2, 3, 'a']\n"
     ]
    }
   ],
   "source": [
    "#List\n",
    "#copy List\n",
    "x = [1, 2, 3, \"a\"]\n",
    "mylist = x.copy()\n",
    "print(mylist)\n",
    "\n",
    "x = [1, 2, 3, \"a\"]\n",
    "mylist = list(x)\n",
    "print(mylist)      \n",
    "\n"
   ]
  },
  {
   "cell_type": "code",
   "execution_count": null,
   "metadata": {},
   "outputs": [
    {
     "name": "stdout",
     "output_type": "stream",
     "text": [
      "[1, 2, 3, 'a', 'b', 'c']\n",
      "[1, 2, 3, 'a']\n",
      "[1, 2, 3, 'a', 'b']\n",
      "[1, 2, 3, 'a', 'b', 'c']\n",
      "[1, 2, 3, 'a', 'b', 'c']\n"
     ]
    }
   ],
   "source": [
    "list1 = [1, 2, 3]\n",
    "list2 =  [\"a\", \"b\", \"c\"]\n",
    "list = list1 + list2\n",
    "print(list)\n",
    "\n",
    "list1 = [1, 2, 3]\n",
    "list2 = [\"a\", \"b\", \"c\"]\n",
    "for x in list2:\n",
    "    list1.append(x)\n",
    "    print(list1)    \n",
    "\n",
    "list1 = [1, 2, 3]\n",
    "list2 = [\"a\", \"b\", \"c\"]\n",
    "list1.extend(list2)\n",
    "print(list1)"
   ]
  },
  {
   "cell_type": "code",
   "execution_count": null,
   "metadata": {},
   "outputs": [
    {
     "name": "stdout",
     "output_type": "stream",
     "text": [
      "('kiwi', 'banana', 'cherry')\n"
     ]
    }
   ],
   "source": [
    "#Tuple ()\n",
    "#Tuple is a collection which is ordered and unchanheble(we cannot change, add or remove items after the tuple has been created) and allow to duplicate values.\n",
    "#Tuple items can be of any data type\n",
    "#you can convert the tuple into a list, change the list, and convert the list back into a tuple.\n",
    "x = (\"apple\", \"banana\", \"cherry\")\n",
    "y = list(x)\n",
    "y[0] = \"kiwi\"\n",
    "x = tuple(y)\n",
    "print(x)       "
   ]
  },
  {
   "cell_type": "code",
   "execution_count": null,
   "metadata": {},
   "outputs": [
    {
     "name": "stdout",
     "output_type": "stream",
     "text": [
      "{'banana', 'apple'}\n",
      "{True, 2, 'banana', 'apple'}\n",
      "{False, 1, 2, 'apple', 'banana'}\n"
     ]
    }
   ],
   "source": [
    "#Set {}\n",
    "#Set items can be of any data type.\n",
    "#set is unordered, unchangeable(you can remove items ans add new items), and unindexed.\n",
    "#sets can not have two items with the same value.\n",
    "set = {\"apple\", \"banana\", \"apple\"}\n",
    "print(set)\n",
    "\n",
    "# The value True and 1 are considered the same value in sets, and are treated as duplicate:\n",
    "set = {\"apple\", True, \"banana\", 1, 2}\n",
    "print(set)\n",
    "\n",
    "# The value False and 0 are considered the same value in sets, and are treated as duplicate:\n",
    "set = {\"apple\", False, \"banana\", 0,  1, 2}\n",
    "print(set)\n"
   ]
  },
  {
   "cell_type": "code",
   "execution_count": null,
   "metadata": {},
   "outputs": [
    {
     "name": "stdout",
     "output_type": "stream",
     "text": [
      "{1, 'a', 2, 'b', 'H'}\n",
      "{1, 'a', 2, 3, 4, 'd', 'c', 'b'}\n",
      "{1, 'a', 2}\n",
      "{1, 'a', 2}\n"
     ]
    }
   ],
   "source": [
    "#set\n",
    "#Add items:\n",
    "set = {\"a\", \"b\", 1, 2}\n",
    "set.add(\"H\")\n",
    "print(set)\n",
    "\n",
    "#Add Set:\n",
    "set1 = {\"a\", \"b\", 1, 2}\n",
    "set2 = {\"c\", \"d\", 3, 4}\n",
    "set1.update(set2)\n",
    "print(set1)\n",
    "\n",
    "set = {\"a\", \"b\", 1, 2}\n",
    "set.remove(\"b\")\n",
    "print(set)\n",
    "\n",
    "set = {\"a\", \"b\", 1, 2}\n",
    "set.discard(\"b\")\n",
    "print(set)\n",
    "\n",
    "#join set in site\n"
   ]
  },
  {
   "cell_type": "code",
   "execution_count": null,
   "metadata": {},
   "outputs": [
    {
     "name": "stdout",
     "output_type": "stream",
     "text": [
      "{'brand': 'Ford', 'model': 'Mustang', 'year': '1964'}\n",
      "Ford\n",
      "{'brand': 'Ford', 'model': 'Mustang', 'year': '2020'}\n",
      "{'brand': 'Ford', 'model': 'Mustang', 'year': '1964', 'colors': ['red', 'blue']}\n"
     ]
    }
   ],
   "source": [
    "#Dictionary \n",
    "#A dictionary is a collection which is ordered, changeable, and do not allow duplicates.\n",
    "dict = {\n",
    "    \"brand\": \"Ford\",\n",
    "    \"model\": \"Mustang\",\n",
    "    \"year\": \"1964\"\n",
    "}\n",
    "print(dict)\n",
    "print(dict[\"brand\"])\n",
    "\n",
    "#Dict cannot have two items with the same key:\n",
    "dict = {\n",
    "    \"brand\": \"Ford\",\n",
    "    \"model\": \"Mustang\",\n",
    "    \"year\": \"1964\",\n",
    "    \"year\": \"2020\"\n",
    "}\n",
    "print(dict)\n",
    "\n",
    "dict = {\n",
    "    \"brand\": \"Ford\",\n",
    "    \"model\": \"Mustang\",\n",
    "    \"year\": \"1964\",\n",
    "    \"colors\": [\"red\", \"blue\"]\n",
    "}\n",
    "print(dict)\n",
    "\n",
    "\n"
   ]
  },
  {
   "cell_type": "code",
   "execution_count": 80,
   "metadata": {},
   "outputs": [
    {
     "name": "stdout",
     "output_type": "stream",
     "text": [
      "a and b are equal\n",
      "a is greater than b\n",
      "=\n"
     ]
    }
   ],
   "source": [
    "#If...Else:\n",
    "a = 33\n",
    "b = 33\n",
    "if b > a:\n",
    "    print(\"b is greater than a\")\n",
    "elif a == b:\n",
    "    print(\"a and b are equal\")\n",
    "#\n",
    "a = 100\n",
    "b = 33\n",
    "if b > a:\n",
    "    print(\"b is greater than a\")\n",
    "elif a == b:\n",
    "    print(\"a and b are equal\")\n",
    "else:\n",
    "    print(\"a is greater than b\")\n",
    "#\n",
    "a = 330\n",
    "b = 330\n",
    "print(\"A\") if a > b else print(\"=\") if a == b else print(\"B\")"
   ]
  },
  {
   "cell_type": "code",
   "execution_count": 85,
   "metadata": {},
   "outputs": [
    {
     "name": "stdout",
     "output_type": "stream",
     "text": [
      "Both conditions are True\n",
      "Atleast one of the conditions is True\n",
      "a is NOT greater than b\n",
      "Above ten\n",
      "and also above 20!\n"
     ]
    }
   ],
   "source": [
    "a = 200\n",
    "b = 33\n",
    "c = 500\n",
    "if a > b and c > a:\n",
    "    print(\"Both conditions are True\")\n",
    "#\n",
    "a = 200\n",
    "b = 33\n",
    "c = 500\n",
    "if a > b or c < a:\n",
    "    print(\"Atleast one of the conditions is True\")\n",
    "#\n",
    "a = 33\n",
    "b = 200\n",
    "if not a > b:\n",
    "    print(\"a is NOT greater than b\")\n",
    "\n",
    "#Nested If:\n",
    "x = 41\n",
    "if x > 10:\n",
    "    print(\"Above ten\")\n",
    "    if x > 20:\n",
    "        print(\"and also above 20!\")\n",
    "    else:\n",
    "        print(\"but not above 20.\")\n"
   ]
  },
  {
   "cell_type": "code",
   "execution_count": null,
   "metadata": {},
   "outputs": [
    {
     "name": "stdout",
     "output_type": "stream",
     "text": [
      "1\n",
      "2\n",
      "3\n",
      "4\n",
      "5\n",
      "1\n",
      "2\n",
      "3\n"
     ]
    }
   ],
   "source": [
    "#While Loops:\n",
    "x = 1\n",
    "while x < 6:\n",
    "    print(x)\n",
    "    x += 1\n",
    "#\n",
    "i = 1\n",
    "while i < 6:\n",
    "    print (i)\n",
    "    if i == 3:\n",
    "        break\n",
    "    i += 1   #### diffrence with i = i +1 \n",
    "#\n"
   ]
  },
  {
   "cell_type": "code",
   "execution_count": 92,
   "metadata": {},
   "outputs": [
    {
     "name": "stdout",
     "output_type": "stream",
     "text": [
      "a\n",
      "b\n",
      "1\n",
      "2\n"
     ]
    }
   ],
   "source": [
    "#For Loops:\n",
    "list = [\"a\", \"b\", 1, 2, 3]\n",
    "for x in list:\n",
    "    print(x)\n",
    "    if x == 2:\n",
    "        break     "
   ]
  },
  {
   "cell_type": "code",
   "execution_count": 93,
   "metadata": {},
   "outputs": [
    {
     "name": "stdout",
     "output_type": "stream",
     "text": [
      "a\n",
      "b\n",
      "1\n"
     ]
    }
   ],
   "source": [
    "list = [\"a\", \"b\", 1, 2, 3]\n",
    "for x in list:\n",
    "    if x == 2:\n",
    "        break\n",
    "    print(x)"
   ]
  },
  {
   "cell_type": "code",
   "execution_count": 94,
   "metadata": {},
   "outputs": [
    {
     "name": "stdout",
     "output_type": "stream",
     "text": [
      "a\n",
      "b\n",
      "1\n",
      "3\n"
     ]
    }
   ],
   "source": [
    "list = [\"a\", \"b\", 1, 2, 3]\n",
    "for x in list:\n",
    "    if x == 2:\n",
    "        continue\n",
    "    print(x)"
   ]
  },
  {
   "cell_type": "code",
   "execution_count": 95,
   "metadata": {},
   "outputs": [
    {
     "name": "stdout",
     "output_type": "stream",
     "text": [
      "0\n",
      "1\n",
      "2\n",
      "3\n",
      "4\n",
      "5\n"
     ]
    }
   ],
   "source": [
    "for x in range(6):\n",
    "    print(x)"
   ]
  },
  {
   "cell_type": "code",
   "execution_count": 97,
   "metadata": {},
   "outputs": [
    {
     "name": "stdout",
     "output_type": "stream",
     "text": [
      "2\n",
      "3\n",
      "4\n",
      "5\n"
     ]
    }
   ],
   "source": [
    "for x in range(2,6):\n",
    "    print(x)"
   ]
  },
  {
   "cell_type": "code",
   "execution_count": 98,
   "metadata": {},
   "outputs": [
    {
     "name": "stdout",
     "output_type": "stream",
     "text": [
      "2\n",
      "4\n",
      "6\n",
      "8\n"
     ]
    }
   ],
   "source": [
    "for x in range(2, 10, 2):\n",
    "    print(x)"
   ]
  },
  {
   "cell_type": "code",
   "execution_count": null,
   "metadata": {},
   "outputs": [
    {
     "name": "stdout",
     "output_type": "stream",
     "text": [
      "0\n",
      "1\n",
      "2\n",
      "3\n",
      "4\n",
      "5\n",
      "finally finished\n"
     ]
    }
   ],
   "source": [
    "for x in range(6):\n",
    "    print(x)\n",
    "else:\n",
    "    print(\"finally finished\")   "
   ]
  },
  {
   "cell_type": "code",
   "execution_count": null,
   "metadata": {},
   "outputs": [
    {
     "name": "stdout",
     "output_type": "stream",
     "text": [
      "0\n",
      "1\n",
      "2\n"
     ]
    }
   ],
   "source": [
    "for x in range(6):\n",
    "    if x == 3:\n",
    "     break\n",
    "    print(x)\n",
    "else:\n",
    "    print(\"finally finished\")    "
   ]
  },
  {
   "cell_type": "code",
   "execution_count": 102,
   "metadata": {},
   "outputs": [
    {
     "name": "stdout",
     "output_type": "stream",
     "text": [
      "red apples\n",
      "red banana\n",
      "red cherry\n",
      "big apples\n",
      "big banana\n",
      "big cherry\n",
      "tasty apples\n",
      "tasty banana\n",
      "tasty cherry\n"
     ]
    }
   ],
   "source": [
    "#Nested Loops:\n",
    "colors = [\"red\", \"big\", \"tasty\"]\n",
    "fruits = [\"apples\", \"banana\", \"cherry\"]\n",
    "for x in colors:\n",
    "    for y in fruits:\n",
    "        print(x, y)"
   ]
  }
 ],
 "metadata": {
  "kernelspec": {
   "display_name": "base",
   "language": "python",
   "name": "python3"
  },
  "language_info": {
   "codemirror_mode": {
    "name": "ipython",
    "version": 3
   },
   "file_extension": ".py",
   "mimetype": "text/x-python",
   "name": "python",
   "nbconvert_exporter": "python",
   "pygments_lexer": "ipython3",
   "version": "3.9.13"
  }
 },
 "nbformat": 4,
 "nbformat_minor": 2
}

{
 "cells": [
  {
   "cell_type": "markdown",
   "metadata": {},
   "source": [
    "# Basics of Functions\n",
    "Basic function"
   ]
  },
  {
   "cell_type": "code",
   "execution_count": 3,
   "metadata": {},
   "outputs": [
    {
     "name": "stdout",
     "output_type": "stream",
     "text": [
      "2 * 12 = 24\n",
      "12 ^ 2 = 144\n",
      "12 + 15 = 27\n"
     ]
    }
   ],
   "source": [
    "# Functions\n",
    "def double(x):\n",
    "    return 2 * x\n",
    "\n",
    "def square(x):\n",
    "    return x ** 2\n",
    "\n",
    "def add_constant(x, const):\n",
    "    return x + const\n",
    "\n",
    "# Numbers\n",
    "number = 12\n",
    "const = 15\n",
    "num_double = double(number)\n",
    "num_square = square(number)\n",
    "num_sum = add_constant(number, const)\n",
    "\n",
    "# Print\n",
    "print(f'2 * {number} = {num_double}')\n",
    "print(f'{number} ^ 2 = {num_square}')\n",
    "print(f'{number} + {const} = {num_sum}')"
   ]
  },
  {
   "cell_type": "markdown",
   "metadata": {},
   "source": [
    "Make a function inside a function"
   ]
  },
  {
   "cell_type": "code",
   "execution_count": 6,
   "metadata": {},
   "outputs": [
    {
     "name": "stdout",
     "output_type": "stream",
     "text": [
      "12 * 3 = 36\n",
      "math operation result: 0.111\n"
     ]
    }
   ],
   "source": [
    "# Functions\n",
    "def multiplication_func(x):\n",
    "    return lambda a : a * x\n",
    "\n",
    "def math_operation(x):\n",
    "    return lambda a, b, c : (a * b) / (c + x)\n",
    "\n",
    "# Call the functions\n",
    "number = 12\n",
    "triple_func = multiplication_func(3)\n",
    "num_triple = triple_func(12)\n",
    "\n",
    "math_func = math_operation(15)\n",
    "num_operation = math_func(1, 2, 3)\n",
    "\n",
    "# Print\n",
    "print(f'{number} * 3 = {num_triple}')\n",
    "print(f'math operation result: {round(num_operation,3)}')\n"
   ]
  },
  {
   "cell_type": "markdown",
   "metadata": {},
   "source": [
    "Recurtion"
   ]
  },
  {
   "cell_type": "code",
   "execution_count": 10,
   "metadata": {},
   "outputs": [
    {
     "name": "stdout",
     "output_type": "stream",
     "text": [
      "Call recurtion function that starts from number 3\n",
      "9\n",
      "17\n",
      "24\n",
      "30\n",
      "35\n",
      "39\n",
      "42\n",
      "Call recurtion function that starts from number 5\n",
      "9\n",
      "17\n",
      "24\n",
      "30\n",
      "35\n",
      "\n",
      "End :)\n"
     ]
    }
   ],
   "source": [
    "# Function\n",
    "def recurtion(x):\n",
    "\n",
    "    if (x<10) :\n",
    "\n",
    "        result=recurtion(x+1)+x\n",
    "        print(result)\n",
    "    else:\n",
    "        result=0\n",
    "    return(result) \n",
    "\n",
    "# Call and print\n",
    "print(f'Call recurtion function that starts from number 3')\n",
    "recurtion(3)\n",
    "\n",
    "print(f'Call recurtion function that starts from number 5')\n",
    "recurtion(5)\n",
    "print(f'\\nEnd :)')"
   ]
  },
  {
   "cell_type": "markdown",
   "metadata": {},
   "source": [
    "Functions that gets a list, *args and **kwargs (flexible input) as their inputs"
   ]
  },
  {
   "cell_type": "code",
   "execution_count": 19,
   "metadata": {},
   "outputs": [
    {
     "name": "stdout",
     "output_type": "stream",
     "text": [
      "I am from Iran\n",
      "I am from Japan\n",
      "I am from Netherlands\n",
      "\n",
      "My husband name is Hooman\n",
      "all names: ('Mehrnaz', 'Tarokh', 'Hooman')\n",
      "\n",
      "mehrnaz is kind\n",
      "hooman is energetic\n",
      "tarokh is warm\n"
     ]
    }
   ],
   "source": [
    "# Function gets a list\n",
    "def print_country(country_list = ['Iran']):\n",
    "    for country_name in country_list:\n",
    "        print(f'I am from {country_name}')\n",
    "    print()\n",
    "\n",
    "# Function gets flexible number of arguments\n",
    "def print_my_husband_name(*names):\n",
    "\n",
    "    print(f'My husband name is {names[2]}')\n",
    "    print(f'all names: {names}')\n",
    "    print()\n",
    "\n",
    "# Function gets flexible number of keyword arguments\n",
    "def print_key_value(**name):\n",
    "    for key, value in name.items():\n",
    "        print(f'{key} is {value}')\n",
    "\n",
    "# Call functions\n",
    "country_list = ['Iran', 'Japan', 'Netherlands']\n",
    "print_country(country_list)\n",
    "\n",
    "print_my_husband_name('Mehrnaz', 'Tarokh', 'Hooman')\n",
    "\n",
    "print_key_value(mehrnaz='kind', hooman='energetic', tarokh='warm') # Dictionary-based, this can also be used like real key argument inputs :)"
   ]
  }
 ],
 "metadata": {
  "kernelspec": {
   "display_name": "base",
   "language": "python",
   "name": "python3"
  },
  "language_info": {
   "codemirror_mode": {
    "name": "ipython",
    "version": 3
   },
   "file_extension": ".py",
   "mimetype": "text/x-python",
   "name": "python",
   "nbconvert_exporter": "python",
   "pygments_lexer": "ipython3",
   "version": "3.9.13"
  }
 },
 "nbformat": 4,
 "nbformat_minor": 2
}
